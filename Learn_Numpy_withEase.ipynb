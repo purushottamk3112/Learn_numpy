{
  "nbformat": 4,
  "nbformat_minor": 0,
  "metadata": {
    "colab": {
      "provenance": [],
      "authorship_tag": "ABX9TyOJHHDjo+4pUDoHhHroI1Ah",
      "include_colab_link": true
    },
    "kernelspec": {
      "name": "python3",
      "display_name": "Python 3"
    },
    "language_info": {
      "name": "python"
    }
  },
  "cells": [
    {
      "cell_type": "markdown",
      "metadata": {
        "id": "view-in-github",
        "colab_type": "text"
      },
      "source": [
        "<a href=\"https://colab.research.google.com/github/purushottamk3112/Learn_numpy/blob/main/Learn_Numpy_withEase.ipynb\" target=\"_parent\"><img src=\"https://colab.research.google.com/assets/colab-badge.svg\" alt=\"Open In Colab\"/></a>"
      ]
    },
    {
      "cell_type": "code",
      "execution_count": null,
      "metadata": {
        "id": "ZbqewtaCIjbp"
      },
      "outputs": [],
      "source": [
        "# We are earning Numpy from scratch\n",
        "#Prequistes:- Python foundation,matrices{finding compliments,multiplication}\n"
      ]
    },
    {
      "cell_type": "code",
      "source": [
        "# we will import numpy in python using\n",
        "import numpy as np #you can use any naming convention instead of np\n"
      ],
      "metadata": {
        "id": "G8H0ptnfJD4G"
      },
      "execution_count": null,
      "outputs": []
    },
    {
      "cell_type": "code",
      "source": [
        "#simple way to define numpy array\n",
        "nump_1d=np.array([1,2,3,4,5])\n",
        "print(nump_1d)\n",
        "\n",
        "#way to print 2-d array,we can do similar for n-d arrays\n",
        "nump_2d=np.array([[1,2,3,4,5],[6,7,8,9,10]])\n",
        "print(nump_2d)"
      ],
      "metadata": {
        "colab": {
          "base_uri": "https://localhost:8080/"
        },
        "id": "26eL95WnJTVi",
        "outputId": "c281c8a4-b29d-458d-e79b-352773ad52af"
      },
      "execution_count": null,
      "outputs": [
        {
          "output_type": "stream",
          "name": "stdout",
          "text": [
            "[1 2 3 4 5]\n",
            "[[ 1  2  3  4  5]\n",
            " [ 6  7  8  9 10]]\n"
          ]
        }
      ]
    },
    {
      "cell_type": "code",
      "source": [
        "#Multiplicaton on list and numpy arrays\n",
        "\n",
        "lis_1d=[1,2,3]\n",
        "print(lis_1d*3)\n",
        "\n",
        "#multiplication on numpy array\n",
        "nump_1d=np.array([1,2,3])\n",
        "print(nump_1d*3)"
      ],
      "metadata": {
        "colab": {
          "base_uri": "https://localhost:8080/"
        },
        "id": "n2XaTnlGKEhP",
        "outputId": "41929063-3d4d-4916-e8aa-1b7af40ec63d"
      },
      "execution_count": null,
      "outputs": [
        {
          "output_type": "stream",
          "name": "stdout",
          "text": [
            "[1, 2, 3, 1, 2, 3, 1, 2, 3]\n",
            "[3 6 9]\n"
          ]
        }
      ]
    }
  ]
}