{
  "nbformat": 4,
  "nbformat_minor": 0,
  "metadata": {
    "colab": {
      "provenance": [],
      "authorship_tag": "ABX9TyOa2qT4yrFh7rXC/3jnS8ps",
      "include_colab_link": true
    },
    "kernelspec": {
      "name": "python3",
      "display_name": "Python 3"
    },
    "language_info": {
      "name": "python"
    }
  },
  "cells": [
    {
      "cell_type": "markdown",
      "metadata": {
        "id": "view-in-github",
        "colab_type": "text"
      },
      "source": [
        "<a href=\"https://colab.research.google.com/github/purushottamk3112/Learn_numpy/blob/main/Learn_Numpy_withEase.ipynb\" target=\"_parent\"><img src=\"https://colab.research.google.com/assets/colab-badge.svg\" alt=\"Open In Colab\"/></a>"
      ]
    },
    {
      "cell_type": "markdown",
      "source": [
        "***We are earning Numpy from scratch\n",
        "Prequistes:- Python foundation,matrices{finding compliments,multiplication}\n",
        "***"
      ],
      "metadata": {
        "id": "oeaTvUSt0fWL"
      }
    },
    {
      "cell_type": "code",
      "source": [
        "# we will import numpy in python using\n",
        "import numpy as np #you can use any naming convention instead of np\n"
      ],
      "metadata": {
        "id": "G8H0ptnfJD4G"
      },
      "execution_count": null,
      "outputs": []
    },
    {
      "cell_type": "code",
      "source": [
        "#simple way to define numpy array\n",
        "nump_1d=np.array([1,2,3,4,5])\n",
        "print(nump_1d)\n",
        "\n",
        "#way to print 2-d array,we can do similar for n-d arrays\n",
        "nump_2d=np.array([[1,2,3,4,5],[6,7,8,9,10]])\n",
        "print(nump_2d)"
      ],
      "metadata": {
        "colab": {
          "base_uri": "https://localhost:8080/"
        },
        "id": "26eL95WnJTVi",
        "outputId": "c281c8a4-b29d-458d-e79b-352773ad52af"
      },
      "execution_count": null,
      "outputs": [
        {
          "output_type": "stream",
          "name": "stdout",
          "text": [
            "[1 2 3 4 5]\n",
            "[[ 1  2  3  4  5]\n",
            " [ 6  7  8  9 10]]\n"
          ]
        }
      ]
    },
    {
      "cell_type": "markdown",
      "source": [
        "***Multiplicaton on list and numpy arrays***"
      ],
      "metadata": {
        "id": "bLva1d1u0Na3"
      }
    },
    {
      "cell_type": "code",
      "source": [
        "lis_1d=[1,2,3]\n",
        "print(lis_1d*3)\n",
        "\n",
        "#multiplication on numpy array\n",
        "nump_1d=np.array([[1,2,3],[4,5,6]])\n",
        "print(nump_1d*3)"
      ],
      "metadata": {
        "colab": {
          "base_uri": "https://localhost:8080/"
        },
        "id": "n2XaTnlGKEhP",
        "outputId": "73368ab4-9767-4b51-a4bd-4690f7ff7c38"
      },
      "execution_count": null,
      "outputs": [
        {
          "output_type": "stream",
          "name": "stdout",
          "text": [
            "[1, 2, 3, 1, 2, 3, 1, 2, 3]\n",
            "[[ 3  6  9]\n",
            " [12 15 18]]\n"
          ]
        }
      ]
    },
    {
      "cell_type": "markdown",
      "source": [
        "***Ways to declare numpy Arrays***"
      ],
      "metadata": {
        "id": "oEMFiQmH0t_D"
      }
    },
    {
      "cell_type": "markdown",
      "source": [
        "******"
      ],
      "metadata": {
        "id": "WmPuqYTORxAc"
      }
    },
    {
      "cell_type": "code",
      "source": [
        "zeros = np.zeros((3,3))\n",
        "print(\"zeros in array\",zeros)\n",
        "\n",
        "ones=np.ones((4,3))\n",
        "print(\"ones in array\",ones)\n",
        "\n",
        "full=np.full((3,4),7)\n",
        "print(\"full in array\",full)\n",
        "\n",
        "random=np.random.random((4,3))\n",
        "print(\"random in array\",random)\n",
        "\n",
        "#we also have method called 'arrange' where ((start,stop),**)\n"
      ],
      "metadata": {
        "colab": {
          "base_uri": "https://localhost:8080/"
        },
        "id": "_c3BOYmh05x6",
        "outputId": "1aaba82d-d344-48ad-c443-d60ca0f99e74"
      },
      "execution_count": 10,
      "outputs": [
        {
          "output_type": "stream",
          "name": "stdout",
          "text": [
            "zeros in array [[0. 0. 0.]\n",
            " [0. 0. 0.]\n",
            " [0. 0. 0.]]\n",
            "ones in array [[1. 1. 1.]\n",
            " [1. 1. 1.]\n",
            " [1. 1. 1.]\n",
            " [1. 1. 1.]]\n",
            "full in array [[7 7 7 7]\n",
            " [7 7 7 7]\n",
            " [7 7 7 7]]\n",
            "random in array [[0.1530802  0.18254074 0.98613447]\n",
            " [0.71462645 0.30787232 0.54823799]\n",
            " [0.74281943 0.26643968 0.23077242]\n",
            " [0.48911975 0.28876589 0.54950158]]\n"
          ]
        }
      ]
    },
    {
      "cell_type": "markdown",
      "source": [
        "***Vectors,scaler and Tensors***"
      ],
      "metadata": {
        "id": "ddcP3BLG3EiX"
      }
    },
    {
      "cell_type": "code",
      "source": [],
      "metadata": {
        "id": "2LlGkTkM3QHT"
      },
      "execution_count": null,
      "outputs": []
    },
    {
      "cell_type": "markdown",
      "source": [],
      "metadata": {
        "id": "Ny3yA3Q00JxA"
      }
    }
  ]
}